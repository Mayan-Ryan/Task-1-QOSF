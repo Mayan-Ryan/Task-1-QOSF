{
 "cells": [
  {
   "cell_type": "code",
   "execution_count": 1,
   "metadata": {},
   "outputs": [],
   "source": [
    "from qiskit import QuantumCircuit, QuantumRegister, ClassicalRegister, execute, Aer\n",
    "\n",
    "def find_maximum(a, b):\n",
    "    # Create a quantum circuit using 4 qubits and 2 classical bits\n",
    "    qr = QuantumRegister(4, name='q')\n",
    "    cr = ClassicalRegister(2, name='c')\n",
    "    circuit = QuantumCircuit(qr, cr)\n",
    "\n",
    "    # Encode the inputs into the qubits\n",
    "\n",
    "    if a < 0 and b > 0:\n",
    "        circuit.x(qr[0])\n",
    "\n",
    "    elif a< 0 and b<0:\n",
    "        circuit.x(qr[0])\n",
    "        circuit.x(qr[1])\n",
    "        circuit.x(qr[2])\n",
    "        circuit.x(qr[3])\n",
    "\n",
    "    elif a>0 and b < 0:\n",
    "        circuit.x(qr[3])\n",
    "        \n",
    "    else:\n",
    "        circuit.x(qr[0])\n",
    "        circuit.x(qr[2])\n",
    "\n",
    "    # Compare the inputs and add a controlled x gate on qubits and 1 and 2\n",
    "    circuit.cswap(qr[0], qr[2], qr[3])\n",
    "    circuit.cx(qr[1], qr[2])\n",
    "\n",
    "    # Measure the qubits 2 and 3\n",
    "    circuit.measure(qr[2], cr[0])\n",
    "    circuit.measure(qr[3], cr[1])\n",
    "    \n",
    "    # Display the quantum circuit\n",
    "    print(circuit)\n",
    "\n",
    "    # Simulate the circuit and get the result\n",
    "    backend = Aer.get_backend('qasm_simulator')\n",
    "    result = execute(circuit, backend, shots=1024).result()\n",
    "    counts = result.get_counts()\n",
    "\n",
    "    # Determine the maximum of the two inputs based on the output qubits\n",
    "    if '11' in counts:\n",
    "        if a < b:\n",
    "            return a\n",
    "        else:\n",
    "            return b\n",
    "    else:\n",
    "        if a < b:\n",
    "            return b\n",
    "        else:\n",
    "            return a"
   ]
  },
  {
   "attachments": {},
   "cell_type": "markdown",
   "metadata": {},
   "source": [
    "# Outputs"
   ]
  },
  {
   "cell_type": "code",
   "execution_count": 8,
   "metadata": {},
   "outputs": [
    {
     "name": "stdout",
     "output_type": "stream",
     "text": [
      "                     \n",
      "q_0: ──────■─────────\n",
      "           │         \n",
      "q_1: ──────┼───■─────\n",
      "           │ ┌─┴─┐┌─┐\n",
      "q_2: ──────X─┤ X ├┤M├\n",
      "     ┌───┐ │ └┬─┬┘└╥┘\n",
      "q_3: ┤ X ├─X──┤M├──╫─\n",
      "     └───┘    └╥┘  ║ \n",
      "c: 2/══════════╩═══╩═\n",
      "               1   0 \n"
     ]
    },
    {
     "data": {
      "text/plain": [
       "20"
      ]
     },
     "execution_count": 8,
     "metadata": {},
     "output_type": "execute_result"
    }
   ],
   "source": [
    "#Case 1: When a is positive and b is negative\n",
    "\n",
    "find_maximum(20,-2)"
   ]
  },
  {
   "cell_type": "code",
   "execution_count": 6,
   "metadata": {},
   "outputs": [
    {
     "name": "stdout",
     "output_type": "stream",
     "text": [
      "     ┌───┐           \n",
      "q_0: ┤ X ├─■─────────\n",
      "     └───┘ │         \n",
      "q_1: ──────┼───■─────\n",
      "     ┌───┐ │ ┌─┴─┐┌─┐\n",
      "q_2: ┤ X ├─X─┤ X ├┤M├\n",
      "     └───┘ │ └┬─┬┘└╥┘\n",
      "q_3: ──────X──┤M├──╫─\n",
      "              └╥┘  ║ \n",
      "c: 2/══════════╩═══╩═\n",
      "               1   0 \n"
     ]
    },
    {
     "data": {
      "text/plain": [
       "4"
      ]
     },
     "execution_count": 6,
     "metadata": {},
     "output_type": "execute_result"
    }
   ],
   "source": [
    "#Case 2: When a is positive and b is positive\n",
    "\n",
    "find_maximum(3,4)"
   ]
  },
  {
   "cell_type": "code",
   "execution_count": 7,
   "metadata": {},
   "outputs": [
    {
     "name": "stdout",
     "output_type": "stream",
     "text": [
      "     ┌───┐           \n",
      "q_0: ┤ X ├─■─────────\n",
      "     └───┘ │         \n",
      "q_1: ──────┼───■─────\n",
      "           │ ┌─┴─┐┌─┐\n",
      "q_2: ──────X─┤ X ├┤M├\n",
      "           │ └┬─┬┘└╥┘\n",
      "q_3: ──────X──┤M├──╫─\n",
      "              └╥┘  ║ \n",
      "c: 2/══════════╩═══╩═\n",
      "               1   0 \n"
     ]
    },
    {
     "data": {
      "text/plain": [
       "2"
      ]
     },
     "execution_count": 7,
     "metadata": {},
     "output_type": "execute_result"
    }
   ],
   "source": [
    "#Case 3: When a is negative and b is positive\n",
    "\n",
    "find_maximum(-10,2)"
   ]
  },
  {
   "cell_type": "code",
   "execution_count": 9,
   "metadata": {},
   "outputs": [
    {
     "name": "stdout",
     "output_type": "stream",
     "text": [
      "     ┌───┐           \n",
      "q_0: ┤ X ├─■─────────\n",
      "     ├───┤ │         \n",
      "q_1: ┤ X ├─┼───■─────\n",
      "     ├───┤ │ ┌─┴─┐┌─┐\n",
      "q_2: ┤ X ├─X─┤ X ├┤M├\n",
      "     ├───┤ │ └┬─┬┘└╥┘\n",
      "q_3: ┤ X ├─X──┤M├──╫─\n",
      "     └───┘    └╥┘  ║ \n",
      "c: 2/══════════╩═══╩═\n",
      "               1   0 \n"
     ]
    },
    {
     "data": {
      "text/plain": [
       "-12"
      ]
     },
     "execution_count": 9,
     "metadata": {},
     "output_type": "execute_result"
    }
   ],
   "source": [
    "#Case 4: When a is negative and b is negative\n",
    "\n",
    "find_maximum(-12,-23)"
   ]
  }
 ],
 "metadata": {
  "kernelspec": {
   "display_name": "tf2.11",
   "language": "python",
   "name": "python3"
  },
  "language_info": {
   "codemirror_mode": {
    "name": "ipython",
    "version": 3
   },
   "file_extension": ".py",
   "mimetype": "text/x-python",
   "name": "python",
   "nbconvert_exporter": "python",
   "pygments_lexer": "ipython3",
   "version": "3.9.0"
  },
  "orig_nbformat": 4
 },
 "nbformat": 4,
 "nbformat_minor": 2
}
